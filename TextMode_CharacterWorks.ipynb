{
 "cells": [
  {
   "cell_type": "code",
   "execution_count": 13,
   "source": [
    "import numpy as np"
   ],
   "outputs": [],
   "metadata": {}
  },
  {
   "cell_type": "code",
   "execution_count": 41,
   "source": [
    "def characterBufferToMem(characterBuffer):\n",
    "    st = ''\n",
    "    for i in range(len(characterBuffer)):\n",
    "        st = st + hex(ord(characterBuffer[i]))[2:].zfill(2) + '\\n'\n",
    "    for j in range(len(characterBuffer), 80*60):\n",
    "        st = st + hex(ord(' '))[2:].zfill(2) + '\\n'\n",
    "    with open('TextModeMemoryFiles/characterBuffer80x60.mem', 'w+') as fil:\n",
    "        # print(st[::-1])\n",
    "        fil.write(st[:-1])\n",
    "        fil.close()\n",
    "characterBufferToMem(\"HELLO WORLD!\")"
   ],
   "outputs": [],
   "metadata": {}
  },
  {
   "cell_type": "code",
   "execution_count": 25,
   "source": [],
   "outputs": [],
   "metadata": {}
  },
  {
   "cell_type": "code",
   "execution_count": null,
   "source": [],
   "outputs": [],
   "metadata": {}
  },
  {
   "cell_type": "code",
   "execution_count": null,
   "source": [],
   "outputs": [],
   "metadata": {}
  }
 ],
 "metadata": {
  "orig_nbformat": 4,
  "language_info": {
   "name": "python",
   "version": "3.8.10",
   "mimetype": "text/x-python",
   "codemirror_mode": {
    "name": "ipython",
    "version": 3
   },
   "pygments_lexer": "ipython3",
   "nbconvert_exporter": "python",
   "file_extension": ".py"
  },
  "kernelspec": {
   "name": "python3",
   "display_name": "Python 3.8.10 64-bit"
  },
  "interpreter": {
   "hash": "31f2aee4e71d21fbe5cf8b01ff0e069b9275f58929596ceb00d14d90e3e16cd6"
  }
 },
 "nbformat": 4,
 "nbformat_minor": 2
}