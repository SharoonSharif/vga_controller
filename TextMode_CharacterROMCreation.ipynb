{
 "cells": [
  {
   "cell_type": "code",
   "execution_count": 87,
   "source": [
    "import numpy as np\n",
    "from PIL import ImageFont, Image, ImageDraw\n",
    "from matplotlib import pyplot as plt"
   ],
   "outputs": [],
   "metadata": {}
  },
  {
   "cell_type": "code",
   "execution_count": 107,
   "source": [
    "def getCharacterMatrix(character=' ', display=False, fontName = \"\"):\n",
    "    font = ImageFont.truetype(fontName, 8)\n",
    "    width = 8\n",
    "    height = 8\n",
    "    im = Image.new(\"L\", (width, height))\n",
    "    # im = Image.new(\"1\", (width, height), (0, 0, 0))\n",
    "    draw = ImageDraw.Draw(im)\n",
    "    draw.text((0, 0), character, 1, font=font)\n",
    "\n",
    "    if display:\n",
    "        plt.imshow(im, cmap='gray')\n",
    "        plt.show()\n",
    "\n",
    "    gg = np.array(im).flatten()\n",
    "    st = ''\n",
    "    for i in range(gg.size):\n",
    "        st=st+str(gg[i])\n",
    "    return st\n",
    "\n",
    "def FontToMem(fontName=''):\n",
    "    st = ''\n",
    "    for i in range(0,256,1):\n",
    "        gg = getCharacterMatrix(chr(i),fontName=fontName, display=False)\n",
    "        ## reversing as they wer reversed\n",
    "        st = st + gg[::-1] +'\\n'\n",
    "    with open('./TextModeMemoryFiles/CharacterROM_ASCII.mem', 'w+') as fil:\n",
    "        fil.write(st[:-1])\n",
    "        fil.close()\n",
    "\n",
    "    \n",
    "FontToMem(\"Fonts/family-basic.ttf\")"
   ],
   "outputs": [],
   "metadata": {}
  },
  {
   "cell_type": "code",
   "execution_count": 108,
   "source": [
    "getCharacterMatrix('K', True, 'Fonts/family-basic.ttf')"
   ],
   "outputs": [
    {
     "output_type": "display_data",
     "data": {
      "text/plain": [
       "<Figure size 432x288 with 1 Axes>"
      ],
      "image/png": "[encoded data removed]"
     },
     "metadata": {
      "needs_background": "light"
     }
    },
    {
     "output_type": "execute_result",
     "data": {
      "text/plain": [
       "'1000011010001100100110001111000010011000100011001000011000000000'"
      ]
     },
     "metadata": {},
     "execution_count": 108
    }
   ],
   "metadata": {}
  },
  {
   "cell_type": "code",
   "execution_count": null,
   "source": [],
   "outputs": [],
   "metadata": {}
  },
  {
   "cell_type": "code",
   "execution_count": null,
   "source": [],
   "outputs": [],
   "metadata": {}
  }
 ],
 "metadata": {
  "orig_nbformat": 4,
  "language_info": {
   "name": "python",
   "version": "3.8.10",
   "mimetype": "text/x-python",
   "codemirror_mode": {
    "name": "ipython",
    "version": 3
   },
   "pygments_lexer": "ipython3",
   "nbconvert_exporter": "python",
   "file_extension": ".py"
  },
  "kernelspec": {
   "name": "python3",
   "display_name": "Python 3.8.10 64-bit"
  },
  "interpreter": {
   "hash": "31f2aee4e71d21fbe5cf8b01ff0e069b9275f58929596ceb00d14d90e3e16cd6"
  }
 },
 "nbformat": 4,
 "nbformat_minor": 2
}